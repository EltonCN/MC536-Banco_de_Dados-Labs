{
 "cells": [
  {
   "cell_type": "markdown",
   "source": [
    "# Laboratório 2"
   ],
   "metadata": {}
  },
  {
   "cell_type": "code",
   "execution_count": 1,
   "source": [
    "import io\r\n",
    "import requests\r\n",
    "import json"
   ],
   "outputs": [],
   "metadata": {}
  },
  {
   "cell_type": "markdown",
   "source": [
    "## Tarefa 1\n",
    "\n",
    "### Carregue o nó de Tenda dos Milagres (da versão em inglês Tent of Miracles) em Python e mostre o conteúdo JSON."
   ],
   "metadata": {}
  },
  {
   "cell_type": "code",
   "execution_count": 5,
   "source": [
    "url = \"https://dbpedia.org/data/Tent_of_Miracles_(novel).jsod\"\r\n",
    "\r\n",
    "response = requests.get(url)\r\n",
    "data = response.json()\r\n",
    "\r\n",
    "data"
   ],
   "outputs": [
    {
     "output_type": "execute_result",
     "data": {
      "text/plain": [
       "{'d': {'results': [{'__metadata': {'uri': 'http://dbpedia.org/resource/Tent_of_Miracles_(novel)'},\n",
       "    'http://www.w3.org/2000/01/rdf-schema#label': 'Tent of Miracles (novel)',\n",
       "    'http://dbpedia.org/ontology/wikiPageWikiLink': {'__deferred': {'uri': 'http://dbpedia.org/resource/French_New_Wave'}},\n",
       "    'http://purl.org/dc/terms/subject': {'__deferred': {'uri': 'http://dbpedia.org/resource/Category:Modernist_novels'}},\n",
       "    'http://www.w3.org/1999/02/22-rdf-syntax-ns#type': {'__deferred': {'uri': 'http://dbpedia.org/ontology/WrittenWork'}},\n",
       "    'http://dbpedia.org/property/wikiPageUsesTemplate': {'__deferred': {'uri': 'http://dbpedia.org/resource/Template:According_to_whom'}},\n",
       "    'http://www.w3.org/2000/01/rdf-schema#comment': 'Tent of Miracles (Portuguese: Tenda dos Milagres) is a Brazilian Modernist novel. It was written by Jorge Amado in 1967 and published the following year. It was later adapted to a 1977 Cinema Novo (Nouvelle Vague) film by director/screenplay writer Nelson Pereira dos Santos.',\n",
       "    'http://dbpedia.org/ontology/abstract': 'La bottega dei miracoli è un romanzo di Jorge Amado pubblicato nel 1960. Come altri romanzi dell&#39;autore (ad esempio Tieta d&#39;Agreste e Teresa Batista) è un testo composito, con un intreccio zigzagante fra analessi e prolessi, con mutamenti di voci narranti ed inserti di materiale eterogeneo.È possibile che l&#39;evento scatenante del racconto (la visita del famoso scienziato) sia stato ispirato dall&#39;esperienza vissuta; in quello stesso 1960, infatti, Jean Paul Sartre e Simone De Beauvoir visitarono il Brasile su invito dello stesso Amado: la visita divenne un evento mediatico, celebrato in numerose manifestazioni istituzionali.',\n",
       "    'http://dbpedia.org/property/pubDate': '1969',\n",
       "    'http://dbpedia.org/property/country': {'__deferred': {'uri': 'http://dbpedia.org/resource/Brazil'}},\n",
       "    'http://www.w3.org/2002/07/owl#sameAs': {'__deferred': {'uri': 'http://rdf.freebase.com/ns/m.02xrs4'}},\n",
       "    'http://dbpedia.org/ontology/wikiPageRevisionID': '974212123',\n",
       "    'http://dbpedia.org/property/author': {'__deferred': {'uri': 'http://dbpedia.org/resource/Jorge_Amado'}},\n",
       "    'http://dbpedia.org/ontology/author': {'__deferred': {'uri': 'http://dbpedia.org/resource/Jorge_Amado'}},\n",
       "    'http://xmlns.com/foaf/0.1/name': 'Tenda dos Milagres',\n",
       "    'http://dbpedia.org/property/englishPubDate': '1971',\n",
       "    'http://dbpedia.org/ontology/country': {'__deferred': {'uri': 'http://dbpedia.org/resource/Brazil'}},\n",
       "    'http://dbpedia.org/property/name': 'Tent of Miracles',\n",
       "    'http://purl.org/linguistics/gold/hypernym': {'__deferred': {'uri': 'http://dbpedia.org/resource/Novel'}},\n",
       "    'http://dbpedia.org/property/titleOrig': 'Tenda dos Milagres',\n",
       "    'http://dbpedia.org/ontology/publisher': {'__deferred': {'uri': 'http://dbpedia.org/resource/Brazil'}},\n",
       "    'http://dbpedia.org/ontology/language': {'__deferred': {'uri': 'http://dbpedia.org/resource/Portuguese_language'}},\n",
       "    'http://www.w3.org/ns/prov#wasDerivedFrom': {'__deferred': {'uri': 'http://en.wikipedia.org/wiki/Tent_of_Miracles_(novel)?oldid=974212123&ns=0'}},\n",
       "    'http://dbpedia.org/ontology/wikiPageLength': '5253',\n",
       "    'http://purl.org/dc/elements/1.1/publisher': 'Martins, Sao Paulo, Brazil',\n",
       "    'http://dbpedia.org/property/language': {'__deferred': {'uri': 'http://dbpedia.org/resource/Portuguese_language'}},\n",
       "    'http://dbpedia.org/ontology/wikiPageID': '623351',\n",
       "    'http://dbpedia.org/property/publisher': 'Martins, Sao Paulo, Brazil',\n",
       "    'http://dbpedia.org/property/caption': 'First edition',\n",
       "    'http://xmlns.com/foaf/0.1/isPrimaryTopicOf': {'__deferred': {'uri': 'http://en.wikipedia.org/wiki/Tent_of_Miracles_(novel)'}}}],\n",
       "  '__count': '1'}}"
      ]
     },
     "metadata": {},
     "execution_count": 5
    }
   ],
   "metadata": {}
  },
  {
   "cell_type": "markdown",
   "source": [
    "## Tarefa 2\n",
    "### Recupere via Python e mostre o autor de Tenda dos Milagres?"
   ],
   "metadata": {}
  },
  {
   "cell_type": "code",
   "execution_count": 27,
   "source": [
    "results = data[\"d\"][\"results\"]\r\n",
    "\r\n",
    "for i in range(len(results)):\r\n",
    "    author_url = \"https://dbpedia.org/data/\"\r\n",
    "    author_url += results[i][\"http://dbpedia.org/property/author\"][\"__deferred\"][\"uri\"][28:]\r\n",
    "    author_url += \".jsod\"\r\n",
    "\r\n",
    "    author_response = requests.get(author_url)\r\n",
    "    author_data = author_response.json()\r\n",
    "\r\n",
    "    print(author_data[\"d\"][\"results\"][0][\"http://dbpedia.org/property/name\"])"
   ],
   "outputs": [
    {
     "output_type": "stream",
     "name": "stdout",
     "text": [
      "Jorge Amado\n"
     ]
    }
   ],
   "metadata": {}
  },
  {
   "cell_type": "markdown",
   "source": [
    "## Tarefa 3\n",
    "### Quais os termos usados para Aspirina (consulta JSON/MeSH em Python)?"
   ],
   "metadata": {}
  },
  {
   "cell_type": "code",
   "execution_count": 34,
   "source": [
    "name = \"Aspirin\"\r\n",
    "url = \"https://id.nlm.nih.gov/mesh/lookup/descriptor?label=\"\r\n",
    "parameters = \"&match=exact&limit=1\"\r\n",
    "\r\n",
    "data = requests.get(url+name+parameters).json()\r\n",
    "\r\n",
    "code = data[0][\"resource\"][27:]\r\n",
    "\r\n",
    "url = \"https://id.nlm.nih.gov/mesh/lookup/details?descriptor=\"\r\n",
    "\r\n",
    "data = requests.get(url+code).json()\r\n",
    "\r\n",
    "for term in data[\"terms\"]:\r\n",
    "    print(term[\"label\"])"
   ],
   "outputs": [
    {
     "output_type": "stream",
     "name": "stdout",
     "text": [
      "Aspirin\n",
      "2-(Acetyloxy)benzoic Acid\n",
      "Acetylsalicylic Acid\n",
      "Acetysal\n",
      "Acylpyrin\n",
      "Aloxiprimum\n",
      "Colfarit\n",
      "Dispril\n",
      "Easprin\n",
      "Ecotrin\n",
      "Endosprin\n",
      "Magnecyl\n",
      "Micristin\n",
      "Polopirin\n",
      "Polopiryna\n",
      "Solprin\n",
      "Solupsan\n",
      "Zorprin\n"
     ]
    }
   ],
   "metadata": {}
  },
  {
   "cell_type": "markdown",
   "source": [
    "## Tarefa 4\n",
    "### Escolha algum lugar no OpenStreetMap e elabore a mesma sequência de três chamadas de serviços para o seu conceito."
   ],
   "metadata": {}
  },
  {
   "cell_type": "code",
   "execution_count": 74,
   "source": [
    "lugar = \"MASP, Brasil\"\r\n",
    "\r\n",
    "url = \"http://nominatim.openstreetmap.org/search?format=json&q=\"\r\n",
    "\r\n",
    "url += lugar\r\n",
    "\r\n",
    "data = requests.get(url).json()\r\n",
    "\r\n",
    "data"
   ],
   "outputs": [
    {
     "output_type": "execute_result",
     "data": {
      "text/plain": [
       "[{'place_id': 185968887,\n",
       "  'licence': 'Data © OpenStreetMap contributors, ODbL 1.0. https://osm.org/copyright',\n",
       "  'osm_type': 'way',\n",
       "  'osm_id': 419922808,\n",
       "  'boundingbox': ['-23.5618154', '-23.5611901', '-46.6563182', '-46.6556211'],\n",
       "  'lat': '-23.56150875',\n",
       "  'lon': '-46.65596048644724',\n",
       "  'display_name': 'Museu de Arte de São Paulo, Vão do MASP, Bela Vista, São Paulo, Região Imediata de São Paulo, Região Metropolitana de São Paulo, Região Geográfica Intermediária de São Paulo, São Paulo, Região Sudeste, Brasil',\n",
       "  'class': 'tourism',\n",
       "  'type': 'museum',\n",
       "  'importance': 0.6511003929554342,\n",
       "  'icon': 'https://nominatim.openstreetmap.org/ui/mapicons//tourist_museum.p.20.png'}]"
      ]
     },
     "metadata": {},
     "execution_count": 74
    }
   ],
   "metadata": {}
  },
  {
   "cell_type": "code",
   "execution_count": 75,
   "source": [
    "place_id = data[0][\"osm_id\"]\r\n",
    "\r\n",
    "url = \"https://api.openstreetmap.org/api/0.6/{element_type}/{id}.{format}\"\r\n",
    "tipo = \"way\"\r\n",
    "\r\n",
    "url = url.replace(\"{element_type}\", tipo).replace(\"{id}\", str(place_id)).replace(\"{format}\", \"json\")\r\n",
    "\r\n",
    "way_data = requests.get(url).json()\r\n",
    "\r\n",
    "print(way_data)"
   ],
   "outputs": [
    {
     "output_type": "stream",
     "name": "stdout",
     "text": [
      "{'version': '0.6', 'generator': 'CGImap 0.8.5 (2109630 spike-07.openstreetmap.org)', 'copyright': 'OpenStreetMap and contributors', 'attribution': 'http://www.openstreetmap.org/copyright', 'license': 'http://opendatacommons.org/licenses/odbl/1-0/', 'elements': [{'type': 'way', 'id': 419922808, 'timestamp': '2021-05-22T13:41:02Z', 'version': 20, 'changeset': 105133576, 'user': 'carlosassuncao92', 'uid': 6251065, 'nodes': [4079239854, 4079239840, 4079239837, 4079239836, 4079239834, 7388260900, 7388260899, 4079239832, 4079239831, 4079239830, 4079239829, 4079239826, 4199085499, 4079239825, 4079239820, 4079239819, 4079239821, 4079239814, 4079239812, 4079239811, 4079239813, 4079239810, 4079239844, 4079239845, 4079239848, 4079239849, 4079239847, 4700173712, 4199085500, 4079239852, 4079239853, 4079239851, 4700173709, 4079239854], 'tags': {'architect': 'Lina Bo Bardi', 'email': 'atendimento@masp.org.br', 'museum': 'art', 'name': 'Museu de Arte de São Paulo', 'name:en': 'São Paulo Museum of Art', 'name:es': 'Museo de Arte de São Paulo', 'official_name': 'Museu de Arte de São Paulo Assis Chateaubriand', 'opening_hours': 'Tu-Su 10:00-18:00; Th 10:00-20:00', 'phone': '+55 11 3251-5644', 'short_name': 'MASP', 'start_date': '1947', 'tourism': 'museum', 'website': 'http://masp.art.br/', 'wikidata': 'Q82941', 'wikipedia': 'pt:Museu de Arte de São Paulo'}}]}\n"
     ]
    }
   ],
   "metadata": {}
  },
  {
   "cell_type": "code",
   "execution_count": 83,
   "source": [
    "wikipedia_tag = \"\"\r\n",
    "concept = \"\"\r\n",
    "\r\n",
    "\r\n",
    "try:\r\n",
    "    wikipedia_tag = way_data[\"elements\"][0][\"tags\"][\"wikipedia\"]\r\n",
    "    concept = wikipedia_tag.replace(\" \", \"_\").replace(\"en:\", \"\").replace(\"pt:\", \"\")\r\n",
    "\r\n",
    "    print(concept)\r\n",
    "except:\r\n",
    "    print(\"Place doesn't have Wikipedia tag\")"
   ],
   "outputs": [
    {
     "output_type": "stream",
     "name": "stdout",
     "text": [
      "Museu_de_Arte_de_São_Paulo\n"
     ]
    }
   ],
   "metadata": {}
  },
  {
   "cell_type": "code",
   "execution_count": 87,
   "source": [
    "dbpedia_url =  \"http://dbpedia.org/data/\" + concept + \".json\"\r\n",
    "\r\n",
    "place_wiki_data = requests.get(dbpedia_url).json()\r\n",
    "\r\n",
    "place_wiki_data"
   ],
   "outputs": [
    {
     "output_type": "execute_result",
     "data": {
      "text/plain": [
       "{'http://en.wikipedia.org/wiki/Museu_de_Arte_de_São_Paulo': {'http://xmlns.com/foaf/0.1/primaryTopic': [{'type': 'uri',\n",
       "    'value': 'http://dbpedia.org/resource/Museu_de_Arte_de_São_Paulo'}]},\n",
       " 'http://dbpedia.org/resource/Museu_de_Arte_de_São_Paulo': {'http://www.w3.org/2000/01/rdf-schema#label': [{'type': 'literal',\n",
       "    'value': 'Museu de Arte de São Paulo',\n",
       "    'lang': 'en'}],\n",
       "  'http://xmlns.com/foaf/0.1/isPrimaryTopicOf': [{'type': 'uri',\n",
       "    'value': 'http://en.wikipedia.org/wiki/Museu_de_Arte_de_São_Paulo'}],\n",
       "  'http://www.w3.org/2002/07/owl#sameAs': [{'type': 'uri',\n",
       "    'value': 'http://dbpedia.org/resource/Museu_de_Arte_de_São_Paulo'}],\n",
       "  'http://www.w3.org/ns/prov#wasDerivedFrom': [{'type': 'uri',\n",
       "    'value': 'http://en.wikipedia.org/wiki/Museu_de_Arte_de_São_Paulo?oldid=137140342&ns=0'}],\n",
       "  'http://dbpedia.org/ontology/wikiPageWikiLink': [{'type': 'uri',\n",
       "    'value': 'http://dbpedia.org/resource/São_Paulo_Museum_of_Art'}],\n",
       "  'http://dbpedia.org/ontology/wikiPageLength': [{'type': 'literal',\n",
       "    'value': '37',\n",
       "    'datatype': 'http://www.w3.org/2001/XMLSchema#nonNegativeInteger'}],\n",
       "  'http://dbpedia.org/ontology/wikiPageRevisionID': [{'type': 'literal',\n",
       "    'value': 137140342,\n",
       "    'datatype': 'http://www.w3.org/2001/XMLSchema#integer'}],\n",
       "  'http://dbpedia.org/ontology/wikiPageID': [{'type': 'literal',\n",
       "    'value': 11687792,\n",
       "    'datatype': 'http://www.w3.org/2001/XMLSchema#integer'}],\n",
       "  'http://dbpedia.org/ontology/wikiPageRedirects': [{'type': 'uri',\n",
       "    'value': 'http://dbpedia.org/resource/São_Paulo_Museum_of_Art'}]}}"
      ]
     },
     "metadata": {},
     "execution_count": 87
    }
   ],
   "metadata": {}
  },
  {
   "cell_type": "code",
   "execution_count": null,
   "source": [],
   "outputs": [],
   "metadata": {}
  }
 ],
 "metadata": {
  "kernelspec": {
   "name": "python3",
   "display_name": "Python 3.8.5 64-bit"
  },
  "language_info": {
   "codemirror_mode": {
    "name": "ipython",
    "version": 3
   },
   "file_extension": ".py",
   "mimetype": "text/x-python",
   "name": "python",
   "nbconvert_exporter": "python",
   "pygments_lexer": "ipython3",
   "version": "3.8.5"
  },
  "interpreter": {
   "hash": "2db524e06e9f5f4ffedc911c917cb75e12dbc923643829bf417064a77eb14d37"
  }
 },
 "nbformat": 4,
 "nbformat_minor": 5
}